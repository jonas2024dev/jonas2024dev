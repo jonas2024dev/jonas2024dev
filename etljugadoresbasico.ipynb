{
  "nbformat": 4,
  "nbformat_minor": 0,
  "metadata": {
    "colab": {
      "provenance": [],
      "mount_file_id": "18XLIl8IKVPAA9DrBuapH7XlD97cW0fiT",
      "authorship_tag": "ABX9TyN4u6gNA4Weq81hsVIVEtF5",
      "include_colab_link": true
    },
    "kernelspec": {
      "name": "python3",
      "display_name": "Python 3"
    },
    "language_info": {
      "name": "python"
    }
  },
  "cells": [
    {
      "cell_type": "markdown",
      "metadata": {
        "id": "view-in-github",
        "colab_type": "text"
      },
      "source": [
        "<a href=\"https://colab.research.google.com/github/jonas2024dev/jonas2024dev/blob/main/etljugadoresbasico.ipynb\" target=\"_parent\"><img src=\"https://colab.research.google.com/assets/colab-badge.svg\" alt=\"Open In Colab\"/></a>"
      ]
    },
    {
      "cell_type": "code",
      "execution_count": null,
      "metadata": {
        "colab": {
          "base_uri": "https://localhost:8080/"
        },
        "id": "xpGrOrIDzxN-",
        "outputId": "5ab89576-7265-4e9b-f7ed-34a9ddd47447"
      },
      "outputs": [
        {
          "output_type": "stream",
          "name": "stdout",
          "text": [
            "Requirement already satisfied: pyspark in /usr/local/lib/python3.11/dist-packages (3.5.1)\n",
            "Requirement already satisfied: py4j==0.10.9.7 in /usr/local/lib/python3.11/dist-packages (from pyspark) (0.10.9.7)\n"
          ]
        }
      ],
      "source": [
        "!pip install pyspark\n",
        "from google.colab import drive\n",
        "from pyspark.sql import SparkSession\n",
        "from pyspark.sql.functions import col,lit\n",
        "from pyspark.sql.types import Iterator,IntegerType,StringType,StructType,StructField\n",
        "from pyspark.sql.context import SQLContext"
      ]
    },
    {
      "cell_type": "code",
      "source": [
        "drive.mount('/content/drive',force_remount=True)\n",
        "sparksession=SparkSession.builder.getOrCreate()\n",
        "sqlContext=SQLContext(sparksession)"
      ],
      "metadata": {
        "id": "tww-sSdL1D8z",
        "colab": {
          "base_uri": "https://localhost:8080/"
        },
        "outputId": "b2af4005-1dd7-41e7-82c3-6b3eadcf0364"
      },
      "execution_count": null,
      "outputs": [
        {
          "output_type": "stream",
          "name": "stdout",
          "text": [
            "Mounted at /content/drive\n"
          ]
        },
        {
          "output_type": "stream",
          "name": "stderr",
          "text": [
            "/usr/local/lib/python3.11/dist-packages/pyspark/sql/context.py:113: FutureWarning: Deprecated in 3.0.0. Use SparkSession.builder.getOrCreate() instead.\n",
            "  warnings.warn(\n"
          ]
        }
      ]
    },
    {
      "cell_type": "code",
      "source": [
        "path='drive/MyDrive/'\n",
        "estadisticas=sparksession.read.csv(path+'players_info.csv',header=True)"
      ],
      "metadata": {
        "id": "hV3hYOmV5iu1"
      },
      "execution_count": null,
      "outputs": []
    },
    {
      "cell_type": "code",
      "source": [
        "display(estadisticas)\n",
        "estadisticas.show()\n",
        "estadisticas.count()"
      ],
      "metadata": {
        "colab": {
          "base_uri": "https://localhost:8080/",
          "height": 603
        },
        "id": "SsM3H3B-7W14",
        "outputId": "dddaac43-fbe2-4807-a1b1-9565b1ce1cc4"
      },
      "execution_count": null,
      "outputs": [
        {
          "output_type": "display_data",
          "data": {
            "text/plain": [
              "DataFrame[rank: string, player_name: string, age: string, gender: string, club: string, league: string, nationality: string, position: string, preffered_foot: string, height_(in cm): string, weight_(in kg): string, alt_position: string, ovr: string, pac: string, pac+-: string, sho: string, sho+-: string, pas: string, pas+-: string, dri: string, dri+-: string, def: string, def+-: string, phy: string, phy+-: string, image_url: string]"
            ]
          },
          "metadata": {}
        },
        {
          "output_type": "stream",
          "name": "stdout",
          "text": [
            "+----+--------------------+---+------+-----------------+------------------+-------------+--------+--------------+--------------+--------------+------------+---+---+-----+---+-----+---+-----+---+-----+---+-----+---+-----+--------------------+\n",
            "|rank|         player_name|age|gender|             club|            league|  nationality|position|preffered_foot|height_(in cm)|weight_(in kg)|alt_position|ovr|pac|pac+-|sho|sho+-|pas|pas+-|dri|dri+-|def|def+-|phy|phy+-|           image_url|\n",
            "+----+--------------------+---+------+-----------------+------------------+-------------+--------+--------------+--------------+--------------+------------+---+---+-----+---+-----+---+-----+---+-----+---+-----+---+-----+--------------------+\n",
            "|   1|       Kylian Mbappé| 25|     M|      Real Madrid|  LALIGA EA SPORTS|       France|      ST|         Right|           182|            75|      ['LW']| 91| 97|    0| 90|    0| 80|    0| 92|    0| 36|    0| 78|    0|https://ratings-i...|\n",
            "|   2|               Rodri| 28|     M|  Manchester City|    Premier League|        Spain|     CDM|         Right|           191|            82|      ['CM']| 91| 66|    8| 80|    7| 86|    6| 84|    4| 87|    2| 85|    1|https://ratings-i...|\n",
            "|   3|      Aitana Bonmatí| 26|     F|     FC Barcelona|            Liga F|        Spain|      CM|         Right|           162|            53|     ['CAM']| 91| 81|    0| 86|    2| 86|    3| 91|    0| 77|    2| 75|    2|https://ratings-i...|\n",
            "|   4|      Erling Haaland| 24|     M|  Manchester City|    Premier League|       Norway|      ST|          Left|           195|            94|        NULL| 91| 88|   -1| 92|   -1| 70|    4| 81|    1| 45|    0| 88|    0|https://ratings-i...|\n",
            "|   5|     Jude Bellingham| 21|     M|      Real Madrid|  LALIGA EA SPORTS|      England|     CAM|         Right|           186|            75|      ['CM']| 90| 80|    4| 87|   12| 83|    4| 88|    3| 78|    0| 83|    1|https://ratings-i...|\n",
            "|   6|     Alexia Putellas| 30|     F|     FC Barcelona|            Liga F|        Spain|      CM|          Left|           173|            69|     ['CAM']| 90| 82|    0| 89|   -1| 90|   -1| 91|   -1| 72|    0| 78|    0|https://ratings-i...|\n",
            "|   7|            Vini Jr.| 24|     M|      Real Madrid|  LALIGA EA SPORTS|       Brazil|      LW|         Right|           176|            73|['ST', 'LM']| 90| 95|    0| 84|    2| 81|    3| 91|    1| 29|    0| 69|    1|https://ratings-i...|\n",
            "|   8|Caroline Graham H...| 29|     F|     FC Barcelona|            Liga F|       Norway|      RW|         Right|           175|            59|      ['RM']| 90| 89|    0| 87|    1| 88|    0| 90|    0| 47|    0| 76|    1|https://ratings-i...|\n",
            "|   9|     Kevin De Bruyne| 33|     M|  Manchester City|    Premier League|      Belgium|      CM|         Right|           181|            75|     ['CAM']| 90| 67|   -5| 87|   -1| 94|    0| 87|    0| 65|    0| 78|    0|https://ratings-i...|\n",
            "|  10|            Sam Kerr| 31|     F|          Chelsea|      Barclays WSL|    Australia|      ST|         Right|           168|            66|        NULL| 90| 85|    0| 88|    0| 74|    0| 90|    0| 42|    0| 83|   -2|https://ratings-i...|\n",
            "|  11|          Harry Kane| 31|     M|FC Bayern München|        Bundesliga|      England|      ST|         Right|           188|            86|        NULL| 90| 65|   -4| 93|    0| 84|    0| 83|    0| 49|    0| 82|   -1|https://ratings-i...|\n",
            "|  12|     Martin Ødegaard| 25|     M|          Arsenal|    Premier League|       Norway|      CM|          Left|           178|            68|     ['CAM']| 89| 70|   -2| 82|    1| 89|    1| 89|    2| 67|    6| 66|    2|https://ratings-i...|\n",
            "|  13|Gianluigi Donnarumma| 25|     M|         Paris SG|Ligue 1 McDonald's|        Italy|      GK|         Right|           196|            90|        NULL| 89| 90|    0| 84|    2| 73|   -6| 90|    1| 52|    0| 87|    4|https://ratings-i...|\n",
            "|  14|        Sophia Smith| 24|     F|  Portland Thorns|              NWSL|United States|      ST|         Right|           164|            58|      ['RW']| 89| 93|    0| 86|    1| 79|    1| 89|    1| 45|    0| 84|    2|https://ratings-i...|\n",
            "|  15|             Alisson| 32|     M|        Liverpool|    Premier League|       Brazil|      GK|         Right|           193|            91|        NULL| 89| 86|    0| 85|    0| 85|    0| 89|    0| 56|    0| 90|    0|https://ratings-i...|\n",
            "|  16|    Thibaut Courtois| 32|     M|      Real Madrid|  LALIGA EA SPORTS|      Belgium|      GK|          Left|           200|            96|        NULL| 89| 85|    0| 89|    0| 76|    0| 90|   -3| 46|    0| 88|   -2|https://ratings-i...|\n",
            "|  17|       Ada Hegerberg| 29|     F|               OL|         Arkema PL|       Norway|      ST|         Right|           176|            68|        NULL| 89| 74|   -1| 89|    0| 77|    0| 86|    0| 39|    0| 79|    3|https://ratings-i...|\n",
            "|  18|    Lautaro Martínez| 27|     M|     Lombardia FC|   Serie A Enilive|    Argentina|      ST|         Right|           174|            72|        NULL| 89| 82|    2| 88|    2| 75|    4| 87|    2| 54|    6| 85|    0|https://ratings-i...|\n",
            "|  19|           Mapi León| 29|     F|     FC Barcelona|            Liga F|        Spain|      CB|          Left|           170|            58|        NULL| 89| 75|    0| 73|   -1| 83|    2| 76|    0| 90|    0| 82|    1|https://ratings-i...|\n",
            "|  20|     Virgil van Dijk| 33|     M|        Liverpool|    Premier League|      Holland|      CB|         Right|           193|            92|        NULL| 89| 78|    0| 60|    0| 71|    0| 71|   -1| 89|    0| 86|    0|https://ratings-i...|\n",
            "+----+--------------------+---+------+-----------------+------------------+-------------+--------+--------------+--------------+--------------+------------+---+---+-----+---+-----+---+-----+---+-----+---+-----+---+-----+--------------------+\n",
            "only showing top 20 rows\n",
            "\n"
          ]
        },
        {
          "output_type": "execute_result",
          "data": {
            "text/plain": [
              "17470"
            ]
          },
          "metadata": {},
          "execution_count": 21
        }
      ]
    },
    {
      "cell_type": "code",
      "source": [
        "estadisticas=estadisticas.drop('alt_position','weight_(in kg)','pac+-','sho+-','image_url','pas+-','dri+-','def+-','phy+-','league')\n",
        "estadisticas.show()"
      ],
      "metadata": {
        "colab": {
          "base_uri": "https://localhost:8080/"
        },
        "id": "YgvUZAdXBqTs",
        "outputId": "b550250d-c7cd-49c9-d254-74e5d4d5bd51"
      },
      "execution_count": null,
      "outputs": [
        {
          "output_type": "stream",
          "name": "stdout",
          "text": [
            "+----+--------------------+---+------+-----------------+-------------+--------+--------------+--------------+---+---+---+---+---+---+---+\n",
            "|rank|         player_name|age|gender|             club|  nationality|position|preffered_foot|height_(in cm)|ovr|pac|sho|pas|dri|def|phy|\n",
            "+----+--------------------+---+------+-----------------+-------------+--------+--------------+--------------+---+---+---+---+---+---+---+\n",
            "|   1|       Kylian Mbappé| 25|     M|      Real Madrid|       France|      ST|         Right|           182| 91| 97| 90| 80| 92| 36| 78|\n",
            "|   2|               Rodri| 28|     M|  Manchester City|        Spain|     CDM|         Right|           191| 91| 66| 80| 86| 84| 87| 85|\n",
            "|   3|      Aitana Bonmatí| 26|     F|     FC Barcelona|        Spain|      CM|         Right|           162| 91| 81| 86| 86| 91| 77| 75|\n",
            "|   4|      Erling Haaland| 24|     M|  Manchester City|       Norway|      ST|          Left|           195| 91| 88| 92| 70| 81| 45| 88|\n",
            "|   5|     Jude Bellingham| 21|     M|      Real Madrid|      England|     CAM|         Right|           186| 90| 80| 87| 83| 88| 78| 83|\n",
            "|   6|     Alexia Putellas| 30|     F|     FC Barcelona|        Spain|      CM|          Left|           173| 90| 82| 89| 90| 91| 72| 78|\n",
            "|   7|            Vini Jr.| 24|     M|      Real Madrid|       Brazil|      LW|         Right|           176| 90| 95| 84| 81| 91| 29| 69|\n",
            "|   8|Caroline Graham H...| 29|     F|     FC Barcelona|       Norway|      RW|         Right|           175| 90| 89| 87| 88| 90| 47| 76|\n",
            "|   9|     Kevin De Bruyne| 33|     M|  Manchester City|      Belgium|      CM|         Right|           181| 90| 67| 87| 94| 87| 65| 78|\n",
            "|  10|            Sam Kerr| 31|     F|          Chelsea|    Australia|      ST|         Right|           168| 90| 85| 88| 74| 90| 42| 83|\n",
            "|  11|          Harry Kane| 31|     M|FC Bayern München|      England|      ST|         Right|           188| 90| 65| 93| 84| 83| 49| 82|\n",
            "|  12|     Martin Ødegaard| 25|     M|          Arsenal|       Norway|      CM|          Left|           178| 89| 70| 82| 89| 89| 67| 66|\n",
            "|  13|Gianluigi Donnarumma| 25|     M|         Paris SG|        Italy|      GK|         Right|           196| 89| 90| 84| 73| 90| 52| 87|\n",
            "|  14|        Sophia Smith| 24|     F|  Portland Thorns|United States|      ST|         Right|           164| 89| 93| 86| 79| 89| 45| 84|\n",
            "|  15|             Alisson| 32|     M|        Liverpool|       Brazil|      GK|         Right|           193| 89| 86| 85| 85| 89| 56| 90|\n",
            "|  16|    Thibaut Courtois| 32|     M|      Real Madrid|      Belgium|      GK|          Left|           200| 89| 85| 89| 76| 90| 46| 88|\n",
            "|  17|       Ada Hegerberg| 29|     F|               OL|       Norway|      ST|         Right|           176| 89| 74| 89| 77| 86| 39| 79|\n",
            "|  18|    Lautaro Martínez| 27|     M|     Lombardia FC|    Argentina|      ST|         Right|           174| 89| 82| 88| 75| 87| 54| 85|\n",
            "|  19|           Mapi León| 29|     F|     FC Barcelona|        Spain|      CB|          Left|           170| 89| 75| 73| 83| 76| 90| 82|\n",
            "|  20|     Virgil van Dijk| 33|     M|        Liverpool|      Holland|      CB|         Right|           193| 89| 78| 60| 71| 71| 89| 86|\n",
            "+----+--------------------+---+------+-----------------+-------------+--------+--------------+--------------+---+---+---+---+---+---+---+\n",
            "only showing top 20 rows\n",
            "\n"
          ]
        }
      ]
    },
    {
      "cell_type": "code",
      "source": [
        "estadisticas=estadisticas.withColumn('rank',col('rank').cast(IntegerType()))\n",
        "estadisticas=estadisticas.withColumn('age',col('age').cast(IntegerType()))\n",
        "estadisticas=estadisticas.withColumn('height_(in cm)',col('height_(in cm)').cast(IntegerType()))\n",
        "estadisticas=estadisticas.withColumn('ovr',col('ovr').cast(IntegerType()))\n",
        "estadisticas=estadisticas.withColumn('pac',col('pac').cast(IntegerType()))\n",
        "estadisticas=estadisticas.withColumn('sho',col('sho').cast(IntegerType()))\n",
        "estadisticas=estadisticas.withColumn('pas',col('pas').cast(IntegerType()))\n",
        "estadisticas=estadisticas.withColumn('dri',col('dri').cast(IntegerType()))\n",
        "estadisticas=estadisticas.withColumn('def',col('def').cast(IntegerType()))\n",
        "estadisticas=estadisticas.withColumn('phy',col('phy').cast(IntegerType()))\n",
        "display(estadisticas)"
      ],
      "metadata": {
        "colab": {
          "base_uri": "https://localhost:8080/",
          "height": 54
        },
        "id": "XchVVDQEDkJK",
        "outputId": "d8bcda73-4788-4af7-87ec-73265cd8b804"
      },
      "execution_count": null,
      "outputs": [
        {
          "output_type": "display_data",
          "data": {
            "text/plain": [
              "DataFrame[rank: int, player_name: string, age: int, gender: string, club: string, nationality: string, position: string, preffered_foot: string, height_(in cm): int, ovr: int, pac: int, sho: int, pas: int, dri: int, def: int, phy: int]"
            ]
          },
          "metadata": {}
        }
      ]
    },
    {
      "cell_type": "code",
      "source": [
        "estadisticasmasculino = estadisticas.filter(col(\"gender\") == 'M')\n",
        "estadisticasfemenino = estadisticas.filter(col(\"gender\") == 'F')\n",
        "listacolombianas=estadisticasfemenino.filter(col(\"nationality\")=='Colombia')\n",
        "estadisticasmasculino=estadisticasmasculino.drop('gender')\n",
        "estadisticasfemenino=estadisticasfemenino.drop('gender')\n",
        "listacolombianas.show()\n",
        "estadisticasmasculino.show()\n",
        "estadisticasfemenino.show()\n"
      ],
      "metadata": {
        "colab": {
          "base_uri": "https://localhost:8080/"
        },
        "collapsed": true,
        "id": "xAMPDBIBdjaA",
        "outputId": "a267710e-c1cf-4e4d-f423-f31fc737da4a"
      },
      "execution_count": null,
      "outputs": [
        {
          "output_type": "stream",
          "name": "stdout",
          "text": [
            "+----+----------------+---+------+-----------------+-----------+--------+--------------+--------------+---+---+---+---+---+---+---+\n",
            "|rank|     player_name|age|gender|             club|nationality|position|preffered_foot|height_(in cm)|ovr|pac|sho|pas|dri|def|phy|\n",
            "+----+----------------+---+------+-----------------+-----------+--------+--------------+--------------+---+---+---+---+---+---+---+\n",
            "| 220|   Mayra Ramírez| 25|     F|          Chelsea|   Colombia|      ST|         Right|           178| 83| 90| 83| 75| 85| 33| 86|\n",
            "| 320| Manuela Vanegas| 24|     F|    Real Sociedad|   Colombia|      CB|          Left|           167| 82| 80| 63| 73| 71| 82| 83|\n",
            "| 734|   Linda Caicedo| 19|     F|   Real Madrid CF|   Colombia|      LW|         Right|           163| 79| 86| 70| 79| 80| 38| 47|\n",
            "|2871|  Catalina Pérez| 30|     F| SV Werder Bremen|   Colombia|      GK|         Right|           171| 73| 74| 72| 70| 70| 51| 73|\n",
            "|3509|   Simona Botero| 29|     F|     RCD Espanyol|   Colombia|      CB|         Right|           165| 72| 72| 39| 54| 51| 71| 73|\n",
            "|4248|Jorelyn Carabalí| 27|     F|         Brighton|   Colombia|      CB|         Right|           170| 71| 63| 36| 52| 53| 72| 70|\n",
            "|5019| Daniela Caracas| 27|     F|     RCD Espanyol|   Colombia|      RB|         Right|           167| 70| 69| 42| 58| 64| 68| 65|\n",
            "|5019|   Ivonne Chacón| 27|     F|       Levante UD|   Colombia|      ST|         Right|           179| 70| 76| 72| 63| 70| 40| 64|\n",
            "|5881|      Elexa Bahr| 26|     F|  Rac. Louisville|   Colombia|      ST|         Right|           160| 69| 68| 65| 59| 69| 41| 65|\n",
            "|8960|Ana María Guzmán| 19|     F|FC Bayern München|   Colombia|      LB|         Right|           162| 66| 65| 47| 56| 65| 62| 63|\n",
            "+----+----------------+---+------+-----------------+-----------+--------+--------------+--------------+---+---+---+---+---+---+---+\n",
            "\n",
            "+----+--------------------+---+------------------+-----------+--------+--------------+--------------+---+---+---+---+---+---+---+\n",
            "|rank|         player_name|age|              club|nationality|position|preffered_foot|height_(in cm)|ovr|pac|sho|pas|dri|def|phy|\n",
            "+----+--------------------+---+------------------+-----------+--------+--------------+--------------+---+---+---+---+---+---+---+\n",
            "|   1|       Kylian Mbappé| 25|       Real Madrid|     France|      ST|         Right|           182| 91| 97| 90| 80| 92| 36| 78|\n",
            "|   2|               Rodri| 28|   Manchester City|      Spain|     CDM|         Right|           191| 91| 66| 80| 86| 84| 87| 85|\n",
            "|   4|      Erling Haaland| 24|   Manchester City|     Norway|      ST|          Left|           195| 91| 88| 92| 70| 81| 45| 88|\n",
            "|   5|     Jude Bellingham| 21|       Real Madrid|    England|     CAM|         Right|           186| 90| 80| 87| 83| 88| 78| 83|\n",
            "|   7|            Vini Jr.| 24|       Real Madrid|     Brazil|      LW|         Right|           176| 90| 95| 84| 81| 91| 29| 69|\n",
            "|   9|     Kevin De Bruyne| 33|   Manchester City|    Belgium|      CM|         Right|           181| 90| 67| 87| 94| 87| 65| 78|\n",
            "|  11|          Harry Kane| 31| FC Bayern München|    England|      ST|         Right|           188| 90| 65| 93| 84| 83| 49| 82|\n",
            "|  12|     Martin Ødegaard| 25|           Arsenal|     Norway|      CM|          Left|           178| 89| 70| 82| 89| 89| 67| 66|\n",
            "|  13|Gianluigi Donnarumma| 25|          Paris SG|      Italy|      GK|         Right|           196| 89| 90| 84| 73| 90| 52| 87|\n",
            "|  15|             Alisson| 32|         Liverpool|     Brazil|      GK|         Right|           193| 89| 86| 85| 85| 89| 56| 90|\n",
            "|  16|    Thibaut Courtois| 32|       Real Madrid|    Belgium|      GK|          Left|           200| 89| 85| 89| 76| 90| 46| 88|\n",
            "|  18|    Lautaro Martínez| 27|      Lombardia FC|  Argentina|      ST|         Right|           174| 89| 82| 88| 75| 87| 54| 85|\n",
            "|  20|     Virgil van Dijk| 33|         Liverpool|    Holland|      CB|         Right|           193| 89| 78| 60| 71| 71| 89| 86|\n",
            "|  21|Marc-André ter St...| 32|      FC Barcelona|    Germany|      GK|         Right|           187| 89| 86| 85| 89| 91| 47| 86|\n",
            "|  22|       Mohamed Salah| 32|         Liverpool|      Egypt|      RW|          Left|           175| 89| 89| 87| 82| 88| 45| 75|\n",
            "|  23|          Phil Foden| 24|   Manchester City|    England|      RW|          Left|           171| 88| 86| 86| 85| 90| 57| 63|\n",
            "|  25|        Lionel Messi| 37|    Inter Miami CF|  Argentina|      RW|          Left|           169| 88| 79| 85| 87| 92| 33| 64|\n",
            "|  28|   Antoine Griezmann| 33|Atlético de Madrid|     France|      ST|          Left|           176| 88| 80| 88| 87| 89| 59| 75|\n",
            "|  29|          Rúben Dias| 27|   Manchester City|   Portugal|      CB|         Right|           187| 88| 67| 39| 70| 69| 89| 87|\n",
            "|  30|  Robert Lewandowski| 36|      FC Barcelona|     Poland|      ST|         Right|           185| 88| 75| 88| 79| 86| 44| 84|\n",
            "+----+--------------------+---+------------------+-----------+--------+--------------+--------------+---+---+---+---+---+---+---+\n",
            "only showing top 20 rows\n",
            "\n",
            "+----+--------------------+---+-----------------+-------------+--------+--------------+--------------+---+---+---+---+---+---+---+\n",
            "|rank|         player_name|age|             club|  nationality|position|preffered_foot|height_(in cm)|ovr|pac|sho|pas|dri|def|phy|\n",
            "+----+--------------------+---+-----------------+-------------+--------+--------------+--------------+---+---+---+---+---+---+---+\n",
            "|   3|      Aitana Bonmatí| 26|     FC Barcelona|        Spain|      CM|         Right|           162| 91| 81| 86| 86| 91| 77| 75|\n",
            "|   6|     Alexia Putellas| 30|     FC Barcelona|        Spain|      CM|          Left|           173| 90| 82| 89| 90| 91| 72| 78|\n",
            "|   8|Caroline Graham H...| 29|     FC Barcelona|       Norway|      RW|         Right|           175| 90| 89| 87| 88| 90| 47| 76|\n",
            "|  10|            Sam Kerr| 31|          Chelsea|    Australia|      ST|         Right|           168| 90| 85| 88| 74| 90| 42| 83|\n",
            "|  14|        Sophia Smith| 24|  Portland Thorns|United States|      ST|         Right|           164| 89| 93| 86| 79| 89| 45| 84|\n",
            "|  17|       Ada Hegerberg| 29|               OL|       Norway|      ST|         Right|           176| 89| 74| 89| 77| 86| 39| 79|\n",
            "|  19|           Mapi León| 29|     FC Barcelona|        Spain|      CB|          Left|           170| 89| 75| 73| 83| 76| 90| 82|\n",
            "|  24|        Marie Katoto| 26|         Paris SG|       France|      ST|         Right|           177| 88| 85| 87| 77| 84| 39| 74|\n",
            "|  26|             Debinha| 33|       KC Current|       Brazil|     CAM|         Right|           155| 88| 84| 81| 87| 91| 46| 68|\n",
            "|  27|    Kadidiatou Diani| 29|               OL|       France|      RW|         Right|           168| 88| 90| 85| 81| 88| 56| 79|\n",
            "|  31|      Patri Guijarro| 26|     FC Barcelona|        Spain|     CDM|         Right|           171| 88| 78| 82| 83| 87| 85| 77|\n",
            "|  35|           Beth Mead| 29|          Arsenal|      England|      RW|         Right|           163| 88| 82| 84| 84| 88| 67| 73|\n",
            "|  36|       Wendie Renard| 34|               OL|       France|      CB|         Right|           187| 88| 48| 66| 71| 69| 91| 84|\n",
            "|  37|         Guro Reiten| 30|          Chelsea|       Norway|      LM|          Left|           167| 88| 88| 80| 85| 86| 60| 66|\n",
            "|  39|       Irene Paredes| 33|     FC Barcelona|        Spain|      CB|         Right|           178| 88| 71| 51| 67| 68| 89| 84|\n",
            "|  41|   Christiane Endler| 33|               OL|        Chile|      GK|          Left|           183| 88| 87| 82| 84| 90| 42| 89|\n",
            "|  48|      Alexandra Popp| 33|    VfL Wolfsburg|      Germany|      ST|          Left|           174| 87| 76| 87| 75| 80| 52| 90|\n",
            "|  51|    Sakina Karchaoui| 28|         Paris SG|       France|      LB|          Left|           160| 87| 89| 66| 82| 87| 80| 65|\n",
            "|  54|     Mallory Swanson| 26|Chicago Red Stars|United States|      LM|         Right|           163| 87| 89| 81| 80| 85| 42| 71|\n",
            "|  58|        Rose Lavelle| 29|     NJ/NY Gotham|United States|     CAM|          Left|           163| 87| 86| 79| 84| 87| 45| 63|\n",
            "+----+--------------------+---+-----------------+-------------+--------+--------------+--------------+---+---+---+---+---+---+---+\n",
            "only showing top 20 rows\n",
            "\n"
          ]
        }
      ]
    },
    {
      "cell_type": "code",
      "source": [
        "rdd=estadisticasmasculino.rdd\n",
        "rdd.collect()\n",
        "display(rdd)"
      ],
      "metadata": {
        "colab": {
          "base_uri": "https://localhost:8080/",
          "height": 35
        },
        "collapsed": true,
        "id": "h2djpYuPd6fv",
        "outputId": "76dd9fc6-7139-4b7a-df58-f1fb2e3bbe8c"
      },
      "execution_count": null,
      "outputs": [
        {
          "output_type": "display_data",
          "data": {
            "text/plain": [
              "MapPartitionsRDD[144] at javaToPython at NativeMethodAccessorImpl.java:0"
            ]
          },
          "metadata": {}
        }
      ]
    },
    {
      "cell_type": "code",
      "source": [
        "schema=StructType([\n",
        "    StructField('rank',IntegerType(),True),\n",
        "    StructField('player_name',StringType(),True),\n",
        "    StructField('age',IntegerType(),True),\n",
        "    StructField('club',StringType(),True),\n",
        "    StructField('nationality',StringType(),True),\n",
        "    StructField('position',StringType(),True),\n",
        "    StructField('preffered_foot',StringType(),True),\n",
        "    StructField('height_(in cm)',IntegerType(),True),\n",
        "    StructField('ovr',IntegerType(),True),\n",
        "    StructField('pac',IntegerType(),True),\n",
        "    StructField('sho',IntegerType(),True),\n",
        "    StructField('pas',IntegerType(),True),\n",
        "    StructField('dri',IntegerType(),True),\n",
        "    StructField('def',IntegerType(),True),\n",
        "    StructField('phy',IntegerType(),True),\n",
        "     ])"
      ],
      "metadata": {
        "id": "3B4QLa0Md60V"
      },
      "execution_count": null,
      "outputs": []
    },
    {
      "cell_type": "code",
      "source": [
        "rdd.collect()\n",
        "rdd.getNumPartitions()"
      ],
      "metadata": {
        "colab": {
          "base_uri": "https://localhost:8080/"
        },
        "collapsed": true,
        "id": "PFYGKmATmOGI",
        "outputId": "6bda67e2-bc76-4767-c912-d2b13e381904"
      },
      "execution_count": null,
      "outputs": [
        {
          "output_type": "execute_result",
          "data": {
            "text/plain": [
              "1"
            ]
          },
          "metadata": {},
          "execution_count": 35
        }
      ]
    },
    {
      "cell_type": "code",
      "source": [
        "rdd.saveAsTextFile(\"drive/MyDrive/rdd.txt\")\n"
      ],
      "metadata": {
        "id": "5cL5CbzM_zR1"
      },
      "execution_count": 47,
      "outputs": []
    }
  ]
}